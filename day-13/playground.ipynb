{
 "cells": [
  {
   "cell_type": "code",
   "execution_count": 1,
   "id": "3385cd01",
   "metadata": {
    "ExecuteTime": {
     "end_time": "2021-12-13T16:26:47.528133Z",
     "start_time": "2021-12-13T16:26:47.417567Z"
    }
   },
   "outputs": [],
   "source": [
    "import re\n",
    "import numpy as np"
   ]
  },
  {
   "cell_type": "code",
   "execution_count": 2,
   "id": "13ea3561",
   "metadata": {
    "ExecuteTime": {
     "end_time": "2021-12-13T16:26:50.439132Z",
     "start_time": "2021-12-13T16:26:50.433161Z"
    }
   },
   "outputs": [],
   "source": [
    "def show_paper(paper):\n",
    "    s = ''\n",
    "    for l in paper:\n",
    "        for c in l:\n",
    "            s += '█' if c else ' '\n",
    "        s += '\\n'\n",
    "    print(s)"
   ]
  },
  {
   "cell_type": "code",
   "execution_count": 3,
   "id": "bea0cfb0",
   "metadata": {
    "ExecuteTime": {
     "end_time": "2021-12-13T16:26:50.863926Z",
     "start_time": "2021-12-13T16:26:50.854710Z"
    }
   },
   "outputs": [],
   "source": [
    "def fold(paper, folds, once=False):\n",
    "    folded = paper\n",
    "    for dim, val in folds:\n",
    "        y, x = folded.shape\n",
    "        if dim == 'x':\n",
    "            folded = folded[:, :val] | folded[:, 2*val:val:-1]\n",
    "        elif dim == 'y':\n",
    "            folded = folded[:val, :] | folded[2*val:val:-1,:]\n",
    "        if once:\n",
    "            break\n",
    "    return folded"
   ]
  },
  {
   "cell_type": "code",
   "execution_count": 4,
   "id": "1a662350",
   "metadata": {
    "ExecuteTime": {
     "end_time": "2021-12-13T16:26:51.635545Z",
     "start_time": "2021-12-13T16:26:51.620015Z"
    }
   },
   "outputs": [],
   "source": [
    "with open('input.txt', 'r') as f:\n",
    "    parts = f.read().split('\\n\\n')\n",
    "    dots = [tuple([int(n) for n in l.split(',')]) for l in parts[0].split('\\n')]\n",
    "    regex = re.compile('fold along (x|y)=([0-9]+)')\n",
    "    f = lambda m: (m.group(1), int(m.group(2)))\n",
    "    folds = [f(regex.match(l)) for l in parts[1].split('\\n')]\n",
    "\n",
    "paper = np.full((1999, 1999), False)\n",
    "\n",
    "for x, y in dots:\n",
    "    paper[y, x] = True"
   ]
  },
  {
   "cell_type": "code",
   "execution_count": 5,
   "id": "2bd7b0a5",
   "metadata": {
    "ExecuteTime": {
     "end_time": "2021-12-13T16:26:53.852611Z",
     "start_time": "2021-12-13T16:26:53.834650Z"
    }
   },
   "outputs": [
    {
     "name": "stdout",
     "output_type": "stream",
     "text": [
      "Part 1: 763\n"
     ]
    }
   ],
   "source": [
    "print(f'Part 1: {fold(paper, folds, once=True).astype(int).sum()}')"
   ]
  },
  {
   "cell_type": "code",
   "execution_count": 6,
   "id": "05a50592",
   "metadata": {
    "ExecuteTime": {
     "end_time": "2021-12-13T16:26:54.732607Z",
     "start_time": "2021-12-13T16:26:54.722193Z"
    }
   },
   "outputs": [
    {
     "name": "stdout",
     "output_type": "stream",
     "text": [
      "Part 2:\n",
      "███  █  █  ██  █    ███   ██  ███   ██  \n",
      "█  █ █  █ █  █ █    █  █ █  █ █  █ █  █ \n",
      "█  █ ████ █  █ █    █  █ █    █  █ █  █ \n",
      "███  █  █ ████ █    ███  █    ███  ████ \n",
      "█ █  █  █ █  █ █    █ █  █  █ █ █  █  █ \n",
      "█  █ █  █ █  █ ████ █  █  ██  █  █ █  █ \n",
      "\n"
     ]
    }
   ],
   "source": [
    "print('Part 2:')\n",
    "show_paper(fold(paper, folds))"
   ]
  },
  {
   "cell_type": "code",
   "execution_count": null,
   "id": "c2f43a98",
   "metadata": {},
   "outputs": [],
   "source": []
  }
 ],
 "metadata": {
  "kernelspec": {
   "display_name": "Python 3",
   "language": "python",
   "name": "python3"
  },
  "language_info": {
   "codemirror_mode": {
    "name": "ipython",
    "version": 3
   },
   "file_extension": ".py",
   "mimetype": "text/x-python",
   "name": "python",
   "nbconvert_exporter": "python",
   "pygments_lexer": "ipython3",
   "version": "3.9.5"
  }
 },
 "nbformat": 4,
 "nbformat_minor": 5
}

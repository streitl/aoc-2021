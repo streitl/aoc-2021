{
 "cells": [
  {
   "cell_type": "code",
   "execution_count": 1,
   "id": "c480fad2",
   "metadata": {
    "ExecuteTime": {
     "end_time": "2021-12-14T10:44:31.407762Z",
     "start_time": "2021-12-14T10:44:31.394654Z"
    }
   },
   "outputs": [],
   "source": [
    "from collections import Counter\n",
    "from copy import copy"
   ]
  },
  {
   "cell_type": "code",
   "execution_count": 2,
   "id": "3a21bbd0",
   "metadata": {
    "ExecuteTime": {
     "end_time": "2021-12-14T10:44:31.424604Z",
     "start_time": "2021-12-14T10:44:31.412352Z"
    }
   },
   "outputs": [],
   "source": [
    "def add_or_create(counter, key, val):\n",
    "    if key in counter:\n",
    "        counter[key] += val\n",
    "    else:\n",
    "        counter[key] = val\n",
    "        \n",
    "def simulate(template, rules, n_steps):\n",
    "    pairs = Counter(zip(template, template[1:]))\n",
    "    singles = Counter(template)\n",
    "    \n",
    "    for step in range(n_steps):\n",
    "        new_pairs = copy(pairs)\n",
    "        for (x, z), c in pairs.items():\n",
    "            if f'{x}{z}' in rules:\n",
    "                y = rules[f'{x}{z}']\n",
    "                add_or_create(new_pairs, (x, y), c)\n",
    "                add_or_create(new_pairs, (y, z), c)\n",
    "                add_or_create(new_pairs, (x, z), -c)\n",
    "                add_or_create(singles, y, c)\n",
    "        pairs = copy(new_pairs)\n",
    "    \n",
    "    ordered_counts = sorted(singles.values())\n",
    "    return ordered_counts[-1] - ordered_counts[0]"
   ]
  },
  {
   "cell_type": "code",
   "execution_count": 3,
   "id": "add54465",
   "metadata": {
    "ExecuteTime": {
     "end_time": "2021-12-14T10:44:31.584783Z",
     "start_time": "2021-12-14T10:44:31.577996Z"
    }
   },
   "outputs": [],
   "source": [
    "with open('input.txt', 'r') as f:\n",
    "    template, rules = f.read().split('\\n\\n')\n",
    "    template = list(template)\n",
    "    rules = dict([tuple(l.split(' -> ')) for l in rules.split('\\n')])"
   ]
  },
  {
   "cell_type": "code",
   "execution_count": 4,
   "id": "5d213175",
   "metadata": {
    "ExecuteTime": {
     "end_time": "2021-12-14T10:44:31.991441Z",
     "start_time": "2021-12-14T10:44:31.981486Z"
    }
   },
   "outputs": [
    {
     "name": "stdout",
     "output_type": "stream",
     "text": [
      "Part 1: 2851\n"
     ]
    }
   ],
   "source": [
    "print(f'Part 1: {simulate(template, rules, n_steps=10)}')"
   ]
  },
  {
   "cell_type": "code",
   "execution_count": 5,
   "id": "d7b47558",
   "metadata": {
    "ExecuteTime": {
     "end_time": "2021-12-14T10:44:32.625319Z",
     "start_time": "2021-12-14T10:44:32.602472Z"
    }
   },
   "outputs": [
    {
     "name": "stdout",
     "output_type": "stream",
     "text": [
      "Part 2: 10002813279337\n"
     ]
    }
   ],
   "source": [
    "print(f'Part 2: {simulate(template, rules, n_steps=40)}')"
   ]
  },
  {
   "cell_type": "code",
   "execution_count": null,
   "id": "506cde3d",
   "metadata": {},
   "outputs": [],
   "source": []
  }
 ],
 "metadata": {
  "kernelspec": {
   "display_name": "Python 3",
   "language": "python",
   "name": "python3"
  },
  "language_info": {
   "codemirror_mode": {
    "name": "ipython",
    "version": 3
   },
   "file_extension": ".py",
   "mimetype": "text/x-python",
   "name": "python",
   "nbconvert_exporter": "python",
   "pygments_lexer": "ipython3",
   "version": "3.9.5"
  }
 },
 "nbformat": 4,
 "nbformat_minor": 5
}

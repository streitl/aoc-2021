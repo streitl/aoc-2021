{
 "cells": [
  {
   "cell_type": "code",
   "execution_count": 1,
   "id": "7aba9518",
   "metadata": {
    "ExecuteTime": {
     "end_time": "2021-12-05T11:09:06.788489Z",
     "start_time": "2021-12-05T11:09:06.669679Z"
    }
   },
   "outputs": [],
   "source": [
    "import numpy as np"
   ]
  },
  {
   "cell_type": "code",
   "execution_count": 2,
   "id": "9d7d1a5d",
   "metadata": {
    "ExecuteTime": {
     "end_time": "2021-12-05T11:09:07.029308Z",
     "start_time": "2021-12-05T11:09:07.019861Z"
    }
   },
   "outputs": [],
   "source": [
    "with open('input.txt', 'r') as f:\n",
    "    data = np.array([[int(e) for g in l.split(' -> ') for e in g.split(',')] for l in f.readlines() if l.rstrip() != ''])"
   ]
  },
  {
   "cell_type": "code",
   "execution_count": 3,
   "id": "39008477",
   "metadata": {
    "ExecuteTime": {
     "end_time": "2021-12-05T11:09:07.362121Z",
     "start_time": "2021-12-05T11:09:07.356230Z"
    }
   },
   "outputs": [],
   "source": [
    "xmax = data[:,[0, 2]].max() + 1\n",
    "ymax = data[:,[1, 3]].max() + 1"
   ]
  },
  {
   "cell_type": "code",
   "execution_count": 4,
   "id": "2ede2eac",
   "metadata": {
    "ExecuteTime": {
     "end_time": "2021-12-05T11:09:12.927856Z",
     "start_time": "2021-12-05T11:09:12.814948Z"
    }
   },
   "outputs": [],
   "source": [
    "line_vents = np.full((xmax, ymax), 0)\n",
    "diagonal_vents = np.full((xmax, ymax), 0)\n",
    "\n",
    "for x0, y0, x1, y1 in data:\n",
    "    x, X = (x0, x1) if x0 < x1 else (x1, x0)\n",
    "    y, Y = (y0, y1) if y0 < y1 else (y1, y0)\n",
    "    if x == X and y == Y:\n",
    "        line_vents[x, y] += 1\n",
    "    elif x == X:\n",
    "        line_vents[x, y:Y+1] += 1\n",
    "    elif y == Y:\n",
    "        line_vents[x:X+1, y] += 1\n",
    "    else:\n",
    "        for xi, yi in zip(range(x0, x1+1) if x0 <= x1 else range(x0, x1-1, -1), range(y0, y1+1) if y0 <= y1 else range(y0, y1-1, -1)):\n",
    "            diagonal_vents[xi, yi] += 1\n",
    "\n",
    "all_vents = diagonal_vents + line_vents"
   ]
  },
  {
   "cell_type": "code",
   "execution_count": 5,
   "id": "1208c3d5",
   "metadata": {
    "ExecuteTime": {
     "end_time": "2021-12-05T11:09:14.249603Z",
     "start_time": "2021-12-05T11:09:14.241211Z"
    }
   },
   "outputs": [
    {
     "name": "stdout",
     "output_type": "stream",
     "text": [
      "Part 1: 7438\n"
     ]
    }
   ],
   "source": [
    "print(f'Part 1: {len(line_vents[line_vents >= 2])}')"
   ]
  },
  {
   "cell_type": "code",
   "execution_count": 6,
   "id": "aa7cba90",
   "metadata": {
    "ExecuteTime": {
     "end_time": "2021-12-05T11:09:15.330763Z",
     "start_time": "2021-12-05T11:09:15.320789Z"
    }
   },
   "outputs": [
    {
     "name": "stdout",
     "output_type": "stream",
     "text": [
      "Part 2: 21406\n"
     ]
    }
   ],
   "source": [
    "print(f'Part 2: {len(all_vents[all_vents >= 2])}')"
   ]
  },
  {
   "cell_type": "code",
   "execution_count": null,
   "id": "4704ebbd",
   "metadata": {},
   "outputs": [],
   "source": []
  }
 ],
 "metadata": {
  "kernelspec": {
   "display_name": "Python 3",
   "language": "python",
   "name": "python3"
  },
  "language_info": {
   "codemirror_mode": {
    "name": "ipython",
    "version": 3
   },
   "file_extension": ".py",
   "mimetype": "text/x-python",
   "name": "python",
   "nbconvert_exporter": "python",
   "pygments_lexer": "ipython3",
   "version": "3.9.5"
  }
 },
 "nbformat": 4,
 "nbformat_minor": 5
}

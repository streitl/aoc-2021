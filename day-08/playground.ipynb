{
 "cells": [
  {
   "cell_type": "code",
   "execution_count": 6,
   "id": "e7fe2f93",
   "metadata": {
    "ExecuteTime": {
     "end_time": "2021-12-08T09:49:46.670100Z",
     "start_time": "2021-12-08T09:49:46.665244Z"
    }
   },
   "outputs": [],
   "source": [
    "from itertools import permutations"
   ]
  },
  {
   "cell_type": "code",
   "execution_count": 7,
   "id": "5c1b38bb",
   "metadata": {
    "ExecuteTime": {
     "end_time": "2021-12-08T09:49:46.908941Z",
     "start_time": "2021-12-08T09:49:46.903444Z"
    }
   },
   "outputs": [],
   "source": [
    "with open('input.txt', 'r') as f:\n",
    "    data = [tuple(l.rstrip().split(' | ')) for l in f.readlines() if l.rstrip() != '']"
   ]
  },
  {
   "cell_type": "code",
   "execution_count": 8,
   "id": "e6011ec7",
   "metadata": {
    "ExecuteTime": {
     "end_time": "2021-12-08T09:49:47.143336Z",
     "start_time": "2021-12-08T09:49:47.136310Z"
    }
   },
   "outputs": [
    {
     "name": "stdout",
     "output_type": "stream",
     "text": [
      "Part 1: 452\n"
     ]
    }
   ],
   "source": [
    "unique_digit_lengths = set([2, 3, 4, 7])\n",
    "count = 0\n",
    "for left, right in data:\n",
    "    for digit in right.split():\n",
    "        if len(digit) in unique_digit_lengths:\n",
    "            count += 1\n",
    "print(f'Part 1: {count}')"
   ]
  },
  {
   "cell_type": "code",
   "execution_count": 9,
   "id": "d58dd0ec",
   "metadata": {
    "ExecuteTime": {
     "end_time": "2021-12-08T09:49:47.379243Z",
     "start_time": "2021-12-08T09:49:47.357713Z"
    }
   },
   "outputs": [],
   "source": [
    "knowledge = {\n",
    "    'abcefg': '0',\n",
    "    'cf': '1',\n",
    "    'acdeg': '2',\n",
    "    'acdfg': '3',\n",
    "    'bcdf': '4',\n",
    "    'abdfg': '5',\n",
    "    'abdefg': '6',\n",
    "    'acf': '7',\n",
    "    'abcdefg': '8',\n",
    "    'abcdfg': '9'\n",
    "}\n",
    "\n",
    "def map_code(code, mapping):\n",
    "    return ''.join(sorted([mapping[d] for d in code]))\n",
    "\n",
    "candidates = [dict(zip('abcdefg', permutation)) for permutation in permutations('abcdefg')]\n",
    "def solve_entry(entry):\n",
    "    left, right = entry[0].split(), entry[1].split()\n",
    "    for mapping in candidates:\n",
    "        valid = True\n",
    "        for code in left:\n",
    "            if map_code(code, mapping) not in knowledge.keys():\n",
    "                valid = False\n",
    "                break\n",
    "        if valid:\n",
    "            return int(''.join([knowledge[map_code(code, mapping)] for code in right]))"
   ]
  },
  {
   "cell_type": "code",
   "execution_count": 10,
   "id": "0b945fa8",
   "metadata": {
    "ExecuteTime": {
     "end_time": "2021-12-08T09:49:49.181260Z",
     "start_time": "2021-12-08T09:49:48.186907Z"
    }
   },
   "outputs": [
    {
     "name": "stdout",
     "output_type": "stream",
     "text": [
      "Part 2: 1096964\n"
     ]
    }
   ],
   "source": [
    "print(f'Part 2: {sum([solve_entry(entry) for entry in data])}')"
   ]
  },
  {
   "cell_type": "code",
   "execution_count": null,
   "id": "45d42c72",
   "metadata": {},
   "outputs": [],
   "source": []
  }
 ],
 "metadata": {
  "kernelspec": {
   "display_name": "Python 3",
   "language": "python",
   "name": "python3"
  },
  "language_info": {
   "codemirror_mode": {
    "name": "ipython",
    "version": 3
   },
   "file_extension": ".py",
   "mimetype": "text/x-python",
   "name": "python",
   "nbconvert_exporter": "python",
   "pygments_lexer": "ipython3",
   "version": "3.9.5"
  }
 },
 "nbformat": 4,
 "nbformat_minor": 5
}

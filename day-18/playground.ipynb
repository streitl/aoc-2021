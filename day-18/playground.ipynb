{
 "cells": [
  {
   "cell_type": "code",
   "execution_count": 1,
   "id": "4937c6cf",
   "metadata": {
    "ExecuteTime": {
     "end_time": "2021-12-20T17:40:40.795143Z",
     "start_time": "2021-12-20T17:40:40.783917Z"
    }
   },
   "outputs": [],
   "source": [
    "import json\n",
    "from copy import deepcopy"
   ]
  },
  {
   "cell_type": "code",
   "execution_count": 2,
   "id": "9c2ca409",
   "metadata": {
    "ExecuteTime": {
     "end_time": "2021-12-20T17:40:40.823633Z",
     "start_time": "2021-12-20T17:40:40.798438Z"
    }
   },
   "outputs": [],
   "source": [
    "class Number:\n",
    "    \n",
    "    def __init__(self, arg=None, parent=None):\n",
    "        if arg is not None:\n",
    "            self.parent = parent\n",
    "            if type(arg) == int:\n",
    "                self.isLiteral = True\n",
    "                self.value = arg\n",
    "            else:\n",
    "                self.isLiteral = False\n",
    "                self.left = Number(arg[0], parent=self)\n",
    "                self.right = Number(arg[1], parent=self)\n",
    "    \n",
    "    def magnitude(self):\n",
    "        return self.value if self.isLiteral else 3 * self.left.magnitude() + 2 * self.right.magnitude()\n",
    "    \n",
    "    def __add__(self, other):\n",
    "        result = Number()\n",
    "        result.isLiteral = False\n",
    "        result.left = deepcopy(self)\n",
    "        result.right = deepcopy(other)\n",
    "        result.left.parent = result\n",
    "        result.right.parent = result\n",
    "        result.parent = None\n",
    "        return result\n",
    "    \n",
    "    def depth(self):\n",
    "        node = self\n",
    "        i = 0\n",
    "        while node.parent is not None:\n",
    "            i += 1\n",
    "            node = node.parent\n",
    "        return i\n",
    "    \n",
    "    def dive(self, side):\n",
    "        node = self\n",
    "        while not node.isLiteral:\n",
    "            node = side(node)\n",
    "        return node\n",
    "    \n",
    "    def immediatelyTo(self, direction):\n",
    "        funcs = [lambda x: x.left, lambda x: x.right]\n",
    "        to, other = tuple(funcs if direction == 'left' else funcs[::-1])\n",
    "        node = self\n",
    "        while node.parent is not None:\n",
    "            if other(node.parent) == node:\n",
    "                return to(node.parent).dive(other)\n",
    "            node = node.parent\n",
    "        return None\n",
    "    \n",
    "    def canExplode(self):\n",
    "        return self.depth() >= 4 and not self.isLiteral and self.left.isLiteral and self.right.isLiteral\n",
    "    \n",
    "    def explode(self):\n",
    "        left = self.immediatelyTo('left')\n",
    "        if left is not None:\n",
    "            left.value += self.left.value\n",
    "        right = self.immediatelyTo('right')\n",
    "        if right is not None:\n",
    "            right.value += self.right.value\n",
    "        \n",
    "        del self.left\n",
    "        del self.right\n",
    "        \n",
    "        self.isLiteral = True\n",
    "        self.value = 0\n",
    "    \n",
    "    def canSplit(self):\n",
    "        return self.isLiteral and self.value >= 10\n",
    "    \n",
    "    def split(self):\n",
    "        self.isLiteral = False\n",
    "        self.left = Number(self.value // 2, parent=self)\n",
    "        self.right = Number(self.value - self.left.value, parent=self)\n",
    "        del self.value\n",
    "    \n",
    "    def reduce(self):\n",
    "        def traverse(node, condition):\n",
    "            if condition(node):\n",
    "                return node\n",
    "            elif node.isLiteral:\n",
    "                return None\n",
    "            else:\n",
    "                leftRes = traverse(node.left, condition)\n",
    "                if leftRes is not None:\n",
    "                    return leftRes\n",
    "                else:\n",
    "                    return traverse(node.right, condition)\n",
    "        \n",
    "        while True:\n",
    "            toExplode = traverse(self, lambda node: node.canExplode())\n",
    "            toSplit = traverse(self, lambda node: node.canSplit())\n",
    "            \n",
    "            if toExplode is not None:\n",
    "                toExplode.explode()\n",
    "            elif toSplit is not None:\n",
    "                toSplit.split()\n",
    "            else:\n",
    "                break\n",
    "        return self\n",
    "    \n",
    "    def __repr__(self):\n",
    "        if self.isLiteral:\n",
    "            return f'{self.value}'\n",
    "        else:\n",
    "            return f'[{self.left},{self.right}]'"
   ]
  },
  {
   "cell_type": "code",
   "execution_count": 3,
   "id": "805c119e",
   "metadata": {
    "ExecuteTime": {
     "end_time": "2021-12-20T17:40:40.835995Z",
     "start_time": "2021-12-20T17:40:40.827441Z"
    }
   },
   "outputs": [],
   "source": [
    "with open('input.txt', 'r') as f:\n",
    "    numbers = [Number(json.loads(l.rstrip())) for l in f.readlines() if l.rstrip()]"
   ]
  },
  {
   "cell_type": "code",
   "execution_count": 4,
   "id": "7700ebf6",
   "metadata": {
    "ExecuteTime": {
     "end_time": "2021-12-20T17:40:41.149507Z",
     "start_time": "2021-12-20T17:40:40.838507Z"
    }
   },
   "outputs": [
    {
     "name": "stdout",
     "output_type": "stream",
     "text": [
      "Part 1: 3359\n"
     ]
    }
   ],
   "source": [
    "result = numbers[0]\n",
    "for number in numbers[1:]:\n",
    "    result = (result + number).reduce()\n",
    "print(f'Part 1: {result.magnitude()}')"
   ]
  },
  {
   "cell_type": "code",
   "execution_count": 5,
   "id": "a6d0add6",
   "metadata": {
    "ExecuteTime": {
     "end_time": "2021-12-20T17:40:52.681650Z",
     "start_time": "2021-12-20T17:40:41.150958Z"
    }
   },
   "outputs": [
    {
     "name": "stdout",
     "output_type": "stream",
     "text": [
      "Part 2: 4616\n"
     ]
    }
   ],
   "source": [
    "max_mag = 0\n",
    "for i, n1 in enumerate(numbers):\n",
    "    for j, n2 in enumerate(numbers):\n",
    "        if i != j:\n",
    "            max_mag = max(max_mag, (n1 + n2).reduce().magnitude(), (n2 + n1).reduce().magnitude())\n",
    "\n",
    "print(f'Part 2: {max_mag}')"
   ]
  },
  {
   "cell_type": "code",
   "execution_count": null,
   "id": "3693e2a1",
   "metadata": {},
   "outputs": [],
   "source": []
  }
 ],
 "metadata": {
  "kernelspec": {
   "display_name": "Python 3",
   "language": "python",
   "name": "python3"
  },
  "language_info": {
   "codemirror_mode": {
    "name": "ipython",
    "version": 3
   },
   "file_extension": ".py",
   "mimetype": "text/x-python",
   "name": "python",
   "nbconvert_exporter": "python",
   "pygments_lexer": "ipython3",
   "version": "3.9.5"
  }
 },
 "nbformat": 4,
 "nbformat_minor": 5
}

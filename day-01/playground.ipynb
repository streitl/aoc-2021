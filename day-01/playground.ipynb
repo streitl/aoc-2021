{
 "cells": [
  {
   "cell_type": "code",
   "execution_count": 1,
   "id": "6d9f10fc",
   "metadata": {},
   "outputs": [],
   "source": [
    "from itertools import starmap"
   ]
  },
  {
   "cell_type": "code",
   "execution_count": 2,
   "id": "5fa8e725",
   "metadata": {},
   "outputs": [],
   "source": [
    "with open('input.txt', 'r') as f:\n",
    "    data = [int(l.rstrip()) for l in f.readlines()]"
   ]
  },
  {
   "cell_type": "code",
   "execution_count": 3,
   "id": "f930913a",
   "metadata": {},
   "outputs": [],
   "source": [
    "def count_increases(list):\n",
    "    return sum(starmap(lambda prev, curr: int(prev < curr), zip(list, list[1:])))"
   ]
  },
  {
   "cell_type": "code",
   "execution_count": 4,
   "id": "3bd0b11a",
   "metadata": {},
   "outputs": [
    {
     "name": "stdout",
     "output_type": "stream",
     "text": [
      "Part 1: 1233\n"
     ]
    }
   ],
   "source": [
    "print(f\"Part 1: {count_increases(data)}\")"
   ]
  },
  {
   "cell_type": "code",
   "execution_count": 5,
   "id": "ecc7e589",
   "metadata": {},
   "outputs": [],
   "source": [
    "rolling = [a + b + c for a, b, c in zip(data, data[1:], data[2:])]"
   ]
  },
  {
   "cell_type": "code",
   "execution_count": 6,
   "id": "14fa44cb",
   "metadata": {},
   "outputs": [
    {
     "name": "stdout",
     "output_type": "stream",
     "text": [
      "Part 2: 1275\n"
     ]
    }
   ],
   "source": [
    "print(f\"Part 2: {count_increases(rolling)}\")"
   ]
  },
  {
   "cell_type": "code",
   "execution_count": null,
   "id": "aca80710",
   "metadata": {},
   "outputs": [],
   "source": []
  }
 ],
 "metadata": {
  "kernelspec": {
   "display_name": "Python 3",
   "language": "python",
   "name": "python3"
  },
  "language_info": {
   "codemirror_mode": {
    "name": "ipython",
    "version": 3
   },
   "file_extension": ".py",
   "mimetype": "text/x-python",
   "name": "python",
   "nbconvert_exporter": "python",
   "pygments_lexer": "ipython3",
   "version": "3.9.5"
  }
 },
 "nbformat": 4,
 "nbformat_minor": 5
}

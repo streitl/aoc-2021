{
 "cells": [
  {
   "cell_type": "code",
   "execution_count": 1,
   "id": "ad938aaf",
   "metadata": {
    "ExecuteTime": {
     "end_time": "2021-12-26T21:56:02.899498Z",
     "start_time": "2021-12-26T21:56:02.753388Z"
    }
   },
   "outputs": [],
   "source": [
    "import numpy as np\n",
    "from copy import deepcopy"
   ]
  },
  {
   "cell_type": "code",
   "execution_count": 2,
   "id": "407e3138",
   "metadata": {
    "ExecuteTime": {
     "end_time": "2021-12-26T21:56:03.354843Z",
     "start_time": "2021-12-26T21:56:03.337505Z"
    }
   },
   "outputs": [],
   "source": [
    "class InfiniteImage:\n",
    "    def __init__(self, image):\n",
    "        self.encode = {'#': 1, '.': 0}\n",
    "        self.array = np.array([list(l) for l in image.split('\\n')])\n",
    "        self.grid_size = self.array.shape[0] // 2\n",
    "        self.store = {tuple(map(lambda n: n - self.grid_size, i)): e for i, e in np.ndenumerate(self.array)}\n",
    "        self.default = '.'\n",
    "    \n",
    "    def __getitem__(self, key):\n",
    "        if key not in self.store:\n",
    "            return self.default\n",
    "        return self.store[key]\n",
    "    \n",
    "    def __setitem__(self, key, value):\n",
    "        self.store[key] = value\n",
    "        m = max(map(lambda n: np.abs(n), key))\n",
    "        if m > self.grid_size:\n",
    "            self.grid_size = m\n",
    "    \n",
    "    def relevant(self):\n",
    "        low = - self.grid_size - 1\n",
    "        high = - low + (1 if self.array.shape[0] % 2 else 0)\n",
    "        for i in range(low, high):\n",
    "            for j in range(low, high):\n",
    "                yield (i, j)\n",
    "    \n",
    "    def code(self, x, y):\n",
    "        code = 0\n",
    "        n = 2 ** 8\n",
    "        for i in range(x-1, x+2):\n",
    "            for j in range(y-1, y+2):\n",
    "                code += self.encode[self[i, j]] * n\n",
    "                n //= 2\n",
    "        return code\n",
    "    \n",
    "    def nlit(self):\n",
    "        return len([v for v in self.store.values() if v == '#'])\n",
    "    \n",
    "    def __repr__(self):\n",
    "        low = - self.grid_size\n",
    "        high = - low + 1\n",
    "        s = ''\n",
    "        for i in range(low, high):\n",
    "            for j in range(low, high):\n",
    "                s += self[i, j]\n",
    "            s += '\\n' if i != high - 1 else ''\n",
    "        return s"
   ]
  },
  {
   "cell_type": "code",
   "execution_count": 3,
   "id": "e6461f37",
   "metadata": {
    "ExecuteTime": {
     "end_time": "2021-12-26T21:56:03.992773Z",
     "start_time": "2021-12-26T21:56:03.984731Z"
    }
   },
   "outputs": [],
   "source": [
    "def count_lit_pixels(image, iterations):\n",
    "    for n in range(iterations):\n",
    "        new = deepcopy(image)\n",
    "        for (i, j) in image.relevant():\n",
    "            new[i, j] = algo[image.code(i, j)]\n",
    "        new.default = algo[0 if image.default == '.' else -1]\n",
    "        image = new\n",
    "    return image.nlit()"
   ]
  },
  {
   "cell_type": "code",
   "execution_count": 4,
   "id": "d1e2f379",
   "metadata": {
    "ExecuteTime": {
     "end_time": "2021-12-26T21:56:05.489011Z",
     "start_time": "2021-12-26T21:56:05.452037Z"
    }
   },
   "outputs": [],
   "source": [
    "with open('input.txt', 'r') as f:\n",
    "    algo, image = f.read().split('\\n\\n')\n",
    "    algo = np.array(list(algo))\n",
    "    image = InfiniteImage(image)"
   ]
  },
  {
   "cell_type": "code",
   "execution_count": 5,
   "id": "d4eee695",
   "metadata": {
    "ExecuteTime": {
     "end_time": "2021-12-26T21:56:06.612958Z",
     "start_time": "2021-12-26T21:56:06.253493Z"
    }
   },
   "outputs": [
    {
     "name": "stdout",
     "output_type": "stream",
     "text": [
      "Part 1: 5682\n"
     ]
    }
   ],
   "source": [
    "print(f'Part 1: {count_lit_pixels(image, iterations=2)}')"
   ]
  },
  {
   "cell_type": "code",
   "execution_count": 6,
   "id": "02f478a4",
   "metadata": {
    "ExecuteTime": {
     "end_time": "2021-12-26T21:56:21.665721Z",
     "start_time": "2021-12-26T21:56:07.566706Z"
    }
   },
   "outputs": [
    {
     "name": "stdout",
     "output_type": "stream",
     "text": [
      "Part 2: 17628\n"
     ]
    }
   ],
   "source": [
    "print(f'Part 2: {count_lit_pixels(image, iterations=50)}')"
   ]
  },
  {
   "cell_type": "code",
   "execution_count": null,
   "id": "2a4fcfac",
   "metadata": {},
   "outputs": [],
   "source": []
  }
 ],
 "metadata": {
  "kernelspec": {
   "display_name": "Python 3",
   "language": "python",
   "name": "python3"
  },
  "language_info": {
   "codemirror_mode": {
    "name": "ipython",
    "version": 3
   },
   "file_extension": ".py",
   "mimetype": "text/x-python",
   "name": "python",
   "nbconvert_exporter": "python",
   "pygments_lexer": "ipython3",
   "version": "3.9.5"
  }
 },
 "nbformat": 4,
 "nbformat_minor": 5
}

{
 "cells": [
  {
   "cell_type": "code",
   "execution_count": 1,
   "id": "367be89d",
   "metadata": {},
   "outputs": [],
   "source": [
    "with open('input.txt', 'r') as f:\n",
    "    data = [l.rstrip().split() for l in f.readlines() if l != '\\n']\n",
    "    data = [(d[0], int(d[1])) for d in data]"
   ]
  },
  {
   "cell_type": "code",
   "execution_count": 2,
   "id": "3bed3f71",
   "metadata": {},
   "outputs": [
    {
     "name": "stdout",
     "output_type": "stream",
     "text": [
      "Part 1: 1714950\n"
     ]
    }
   ],
   "source": [
    "depth = 0\n",
    "x = 0\n",
    "for instruction, amount in data:\n",
    "    if instruction == 'down':\n",
    "        depth += amount\n",
    "    elif instruction == 'up':\n",
    "        depth -= amount\n",
    "    elif instruction == 'forward':\n",
    "        x += amount\n",
    "\n",
    "print(f'Part 1: {depth * x}')"
   ]
  },
  {
   "cell_type": "code",
   "execution_count": 3,
   "id": "b923da2e",
   "metadata": {},
   "outputs": [
    {
     "name": "stdout",
     "output_type": "stream",
     "text": [
      "Part 2: 1281977850\n"
     ]
    }
   ],
   "source": [
    "depth = 0\n",
    "x = 0\n",
    "aim = 0\n",
    "for instruction, amount in data:\n",
    "    if instruction == 'down':\n",
    "        aim += amount\n",
    "    elif instruction == 'up':\n",
    "        aim -= amount\n",
    "    elif instruction == 'forward':\n",
    "        x += amount\n",
    "        depth += aim * amount\n",
    "\n",
    "print(f'Part 2: {depth * x}')"
   ]
  },
  {
   "cell_type": "code",
   "execution_count": null,
   "id": "a7ca3314",
   "metadata": {},
   "outputs": [],
   "source": []
  }
 ],
 "metadata": {
  "kernelspec": {
   "display_name": "Python 3",
   "language": "python",
   "name": "python3"
  },
  "language_info": {
   "codemirror_mode": {
    "name": "ipython",
    "version": 3
   },
   "file_extension": ".py",
   "mimetype": "text/x-python",
   "name": "python",
   "nbconvert_exporter": "python",
   "pygments_lexer": "ipython3",
   "version": "3.9.5"
  }
 },
 "nbformat": 4,
 "nbformat_minor": 5
}

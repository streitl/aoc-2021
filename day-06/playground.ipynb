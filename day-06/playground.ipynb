{
 "cells": [
  {
   "cell_type": "code",
   "execution_count": 1,
   "id": "6067b066",
   "metadata": {
    "ExecuteTime": {
     "end_time": "2021-12-06T08:34:33.384597Z",
     "start_time": "2021-12-06T08:34:33.372487Z"
    }
   },
   "outputs": [],
   "source": [
    "from collections import Counter"
   ]
  },
  {
   "cell_type": "code",
   "execution_count": 2,
   "id": "f357c335",
   "metadata": {
    "ExecuteTime": {
     "end_time": "2021-12-06T08:34:33.702618Z",
     "start_time": "2021-12-06T08:34:33.697537Z"
    }
   },
   "outputs": [],
   "source": [
    "with open('input.txt', 'r') as f:\n",
    "    data = [int(e) for e in f.readline().rstrip().split(',')]"
   ]
  },
  {
   "cell_type": "code",
   "execution_count": 3,
   "id": "6cbb1ecf",
   "metadata": {
    "ExecuteTime": {
     "end_time": "2021-12-06T08:34:34.342690Z",
     "start_time": "2021-12-06T08:34:34.334866Z"
    }
   },
   "outputs": [],
   "source": [
    "def simulate_fishes(fishes, n_days):\n",
    "    fish_counts = Counter(fishes)\n",
    "    for f in range(9):\n",
    "        if f not in fish_counts:\n",
    "            fish_counts[f] = 0\n",
    "            \n",
    "    for day in range(n_days):\n",
    "        new_fish_counts = {f: 0 for f in range(9)}\n",
    "        for fish, count in fish_counts.items():\n",
    "            if fish == 0:\n",
    "                new_fish_counts[6] += count\n",
    "                new_fish_counts[8] += count\n",
    "            else:\n",
    "                new_fish_counts[fish-1] += count\n",
    "        fish_counts = new_fish_counts\n",
    "    \n",
    "    return sum(fish_counts.values())"
   ]
  },
  {
   "cell_type": "code",
   "execution_count": 4,
   "id": "9009c4a2",
   "metadata": {
    "ExecuteTime": {
     "end_time": "2021-12-06T08:34:34.940200Z",
     "start_time": "2021-12-06T08:34:34.934365Z"
    }
   },
   "outputs": [
    {
     "name": "stdout",
     "output_type": "stream",
     "text": [
      "Part 1: 379114\n"
     ]
    }
   ],
   "source": [
    "print(f'Part 1: {simulate_fishes(data, n_days=80)}')"
   ]
  },
  {
   "cell_type": "code",
   "execution_count": 5,
   "id": "7c60f097",
   "metadata": {
    "ExecuteTime": {
     "end_time": "2021-12-06T08:34:35.579081Z",
     "start_time": "2021-12-06T08:34:35.572732Z"
    }
   },
   "outputs": [
    {
     "name": "stdout",
     "output_type": "stream",
     "text": [
      "Part 2: 1702631502303\n"
     ]
    }
   ],
   "source": [
    "print(f'Part 2: {simulate_fishes(data, n_days=256)}')"
   ]
  },
  {
   "cell_type": "code",
   "execution_count": null,
   "id": "b0b6a9bd",
   "metadata": {},
   "outputs": [],
   "source": []
  }
 ],
 "metadata": {
  "kernelspec": {
   "display_name": "Python 3",
   "language": "python",
   "name": "python3"
  },
  "language_info": {
   "codemirror_mode": {
    "name": "ipython",
    "version": 3
   },
   "file_extension": ".py",
   "mimetype": "text/x-python",
   "name": "python",
   "nbconvert_exporter": "python",
   "pygments_lexer": "ipython3",
   "version": "3.9.5"
  }
 },
 "nbformat": 4,
 "nbformat_minor": 5
}

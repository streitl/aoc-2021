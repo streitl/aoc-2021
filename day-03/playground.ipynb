{
 "cells": [
  {
   "cell_type": "code",
   "execution_count": 1,
   "id": "a1fc0361",
   "metadata": {},
   "outputs": [],
   "source": [
    "import numpy as np"
   ]
  },
  {
   "cell_type": "code",
   "execution_count": 2,
   "id": "9c3daeb6",
   "metadata": {},
   "outputs": [],
   "source": [
    "with open('input.txt', 'r') as f:\n",
    "    data = np.array([[int(c) for c in l.rstrip()] for l in f.readlines() if l != '\\n'])"
   ]
  },
  {
   "cell_type": "code",
   "execution_count": 3,
   "id": "e6141ac0",
   "metadata": {},
   "outputs": [],
   "source": [
    "def bin2dec(binary_string):\n",
    "    base = 1\n",
    "    res = 0\n",
    "    for i in range(len(binary_string)):\n",
    "        res += base * int(binary_string[-(i+1)])\n",
    "        base *= 2\n",
    "    return res"
   ]
  },
  {
   "cell_type": "code",
   "execution_count": 4,
   "id": "bbd6a19b",
   "metadata": {},
   "outputs": [],
   "source": [
    "gamma = ''\n",
    "epsilon = ''\n",
    "for col in data.T:\n",
    "    if 2 * sum(col) > len(col):\n",
    "        gamma += '1'\n",
    "        epsilon += '0'\n",
    "    elif 2 * sum(col) < len(col):\n",
    "        gamma += '0'\n",
    "        epsilon += '1'\n",
    "    else:\n",
    "        print('hummmm')"
   ]
  },
  {
   "cell_type": "code",
   "execution_count": 5,
   "id": "46bc316a",
   "metadata": {},
   "outputs": [
    {
     "name": "stdout",
     "output_type": "stream",
     "text": [
      "Part 1: 738234\n"
     ]
    }
   ],
   "source": [
    "print(f'Part 1: {bin2dec(gamma) * bin2dec(epsilon)}')"
   ]
  },
  {
   "cell_type": "code",
   "execution_count": 6,
   "id": "05e02cea",
   "metadata": {},
   "outputs": [],
   "source": [
    "def filter_candidates(candidates, keep_least_frequent):\n",
    "    i = 0\n",
    "    while candidates.shape[0] > 1:\n",
    "        nb_ones = candidates.T[i].sum() + 0.5 # 1 always wins ties\n",
    "        selectors = [(1 - candidates[:, i]).astype(bool), candidates[:, i].astype(bool)]\n",
    "        candidates = candidates[selectors[int(nb_ones * 2 > len(candidates)) ^ keep_least_frequent], :]\n",
    "        i += 1\n",
    "    return bin2dec(candidates[0])"
   ]
  },
  {
   "cell_type": "code",
   "execution_count": 7,
   "id": "064dcac0",
   "metadata": {},
   "outputs": [
    {
     "name": "stdout",
     "output_type": "stream",
     "text": [
      "Part 2: 3969126\n"
     ]
    }
   ],
   "source": [
    "candidates = np.array(data)\n",
    "oxygen = filter_candidates(candidates, keep_least_frequent=False)\n",
    "co2 = filter_candidates(candidates, keep_least_frequent=True)\n",
    "print(f'Part 2: {oxygen * co2}')"
   ]
  },
  {
   "cell_type": "code",
   "execution_count": null,
   "id": "e7f36ac9",
   "metadata": {},
   "outputs": [],
   "source": []
  }
 ],
 "metadata": {
  "kernelspec": {
   "display_name": "Python 3",
   "language": "python",
   "name": "python3"
  },
  "language_info": {
   "codemirror_mode": {
    "name": "ipython",
    "version": 3
   },
   "file_extension": ".py",
   "mimetype": "text/x-python",
   "name": "python",
   "nbconvert_exporter": "python",
   "pygments_lexer": "ipython3",
   "version": "3.9.5"
  }
 },
 "nbformat": 4,
 "nbformat_minor": 5
}

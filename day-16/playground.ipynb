{
 "cells": [
  {
   "cell_type": "code",
   "execution_count": 1,
   "id": "c1ffa266",
   "metadata": {
    "ExecuteTime": {
     "end_time": "2021-12-16T10:18:08.133633Z",
     "start_time": "2021-12-16T10:18:08.117970Z"
    }
   },
   "outputs": [],
   "source": [
    "from functools import reduce"
   ]
  },
  {
   "cell_type": "code",
   "execution_count": 2,
   "id": "d800d83d",
   "metadata": {
    "ExecuteTime": {
     "end_time": "2021-12-16T10:18:08.526217Z",
     "start_time": "2021-12-16T10:18:08.519359Z"
    }
   },
   "outputs": [],
   "source": [
    "def hex2bin(data):\n",
    "    bits = bin(int(data, 16))[2:]\n",
    "    return ''.join(['0'] * (len(data) * 4 - len(bits))) + bits\n",
    "\n",
    "def bin2int(data):\n",
    "    return int(data, 2)"
   ]
  },
  {
   "cell_type": "code",
   "execution_count": 3,
   "id": "e639e224",
   "metadata": {
    "ExecuteTime": {
     "end_time": "2021-12-16T10:18:08.947407Z",
     "start_time": "2021-12-16T10:18:08.929062Z"
    }
   },
   "outputs": [],
   "source": [
    "LITTERAL_TYPE = 4\n",
    "\n",
    "class Packet():\n",
    "    def __init__(self, bits):\n",
    "        if len(bits) < 6:\n",
    "            raise ValueError('')\n",
    "        \n",
    "        self.version = bin2int(bits[:3])\n",
    "        self.type = bin2int(bits[3:6])\n",
    "        self.inner_packets = []\n",
    "        \n",
    "        if self.type == LITTERAL_TYPE:\n",
    "            self.litteral = ''\n",
    "            i = 6\n",
    "            while True:\n",
    "                self.litteral += bits[i+1: i+5]\n",
    "                if bits[i] == '0':\n",
    "                    break\n",
    "                i += 5\n",
    "            self.litteral = bin2int(self.litteral)\n",
    "            self.consumed_bits = i + 5\n",
    "        else:\n",
    "            if bits[6] == '0':\n",
    "                self.inner_packets_length = bin2int(bits[7:7+15])\n",
    "                inner_bits = bits[7+15:7+15+self.inner_packets_length]\n",
    "                self.consumed_bits = 7+15\n",
    "                while True:\n",
    "                    try:\n",
    "                        packet = Packet(inner_bits)\n",
    "                    except:\n",
    "                        break\n",
    "                    self.inner_packets.append(packet)\n",
    "                    inner_bits = inner_bits[packet.consumed_bits:]\n",
    "                    self.consumed_bits += packet.consumed_bits\n",
    "            else:\n",
    "                self.n_inner_packets = bin2int(bits[7:7+11])\n",
    "                inner_bits = bits[7+11:]\n",
    "                self.consumed_bits = 7+11\n",
    "                for i in range(self.n_inner_packets):\n",
    "                    packet = Packet(inner_bits)\n",
    "                    self.inner_packets.append(packet)\n",
    "                    inner_bits = inner_bits[packet.consumed_bits:]\n",
    "                    self.consumed_bits += packet.consumed_bits\n",
    "    \n",
    "    def __repr__(self, depth=0):\n",
    "        s = ''.join(['-'] * depth)\n",
    "        s += f'Packet [version={self.version}, type={self.type}'\n",
    "        if hasattr(self, 'litteral'):\n",
    "            s += f', litteral={self.litteral}'\n",
    "            \n",
    "        if hasattr(self, 'inner_packets_length'):\n",
    "            s += f', inner_packets_length={self.inner_packets_length}'\n",
    "        \n",
    "        if hasattr(self, 'n_inner_packets'):\n",
    "            s += f', n_inner_packets={self.n_inner_packets}'\n",
    "        \n",
    "        s += f'] with {len(self.inner_packets)} children'\n",
    "        if self.inner_packets:\n",
    "            s += ':'\n",
    "            for p in self.inner_packets:\n",
    "                s +='\\n' + p.__repr__(depth=depth+1) \n",
    "        return s"
   ]
  },
  {
   "cell_type": "code",
   "execution_count": 4,
   "id": "225f2fab",
   "metadata": {
    "ExecuteTime": {
     "end_time": "2021-12-16T10:18:09.556345Z",
     "start_time": "2021-12-16T10:18:09.542772Z"
    }
   },
   "outputs": [],
   "source": [
    "def sum_versions(packet):\n",
    "    return packet.version + sum(map(lambda p: sum_versions(p), packet.inner_packets))\n",
    "\n",
    "def expression_value(packet):\n",
    "    if hasattr(packet, 'litteral'):\n",
    "        return packet.litteral\n",
    "    \n",
    "    inner_values = list(map(lambda p: expression_value(p), packet.inner_packets))\n",
    "    if packet.type == 0:\n",
    "        return sum(inner_values)\n",
    "    elif packet.type == 1:\n",
    "        return reduce(lambda x, y: x * y, inner_values, 1)\n",
    "    elif packet.type == 2:\n",
    "        return min(inner_values)\n",
    "    elif packet.type == 3:\n",
    "        return max(inner_values)\n",
    "    elif packet.type == 5:\n",
    "        return int(inner_values[0] > inner_values[1])\n",
    "    elif packet.type == 6:\n",
    "        return int(inner_values[0] < inner_values[1])\n",
    "    elif packet.type == 7:\n",
    "        return int(inner_values[0] == inner_values[1])\n",
    "    else:\n",
    "        print('error:')"
   ]
  },
  {
   "cell_type": "code",
   "execution_count": 5,
   "id": "6f0062d6",
   "metadata": {
    "ExecuteTime": {
     "end_time": "2021-12-16T10:18:10.331491Z",
     "start_time": "2021-12-16T10:18:10.325453Z"
    }
   },
   "outputs": [],
   "source": [
    "with open('input.txt', 'r') as f:\n",
    "    data = f.readline().rstrip()"
   ]
  },
  {
   "cell_type": "code",
   "execution_count": 6,
   "id": "be1be914",
   "metadata": {
    "ExecuteTime": {
     "end_time": "2021-12-16T10:18:11.576757Z",
     "start_time": "2021-12-16T10:18:11.569561Z"
    }
   },
   "outputs": [],
   "source": [
    "bits = hex2bin(data)\n",
    "top_packet = Packet(bits)"
   ]
  },
  {
   "cell_type": "code",
   "execution_count": 7,
   "id": "522436a3",
   "metadata": {
    "ExecuteTime": {
     "end_time": "2021-12-16T10:18:12.516979Z",
     "start_time": "2021-12-16T10:18:12.509990Z"
    }
   },
   "outputs": [
    {
     "name": "stdout",
     "output_type": "stream",
     "text": [
      "Part 1: 993\n"
     ]
    }
   ],
   "source": [
    "print(f'Part 1: {sum_versions(top_packet)}')"
   ]
  },
  {
   "cell_type": "code",
   "execution_count": 8,
   "id": "78944be2",
   "metadata": {
    "ExecuteTime": {
     "end_time": "2021-12-16T10:18:13.378320Z",
     "start_time": "2021-12-16T10:18:13.371835Z"
    }
   },
   "outputs": [
    {
     "name": "stdout",
     "output_type": "stream",
     "text": [
      "Part 2: 144595909277\n"
     ]
    }
   ],
   "source": [
    "print(f'Part 2: {expression_value(top_packet)}')"
   ]
  },
  {
   "cell_type": "code",
   "execution_count": null,
   "id": "21062933",
   "metadata": {},
   "outputs": [],
   "source": []
  }
 ],
 "metadata": {
  "kernelspec": {
   "display_name": "Python 3",
   "language": "python",
   "name": "python3"
  },
  "language_info": {
   "codemirror_mode": {
    "name": "ipython",
    "version": 3
   },
   "file_extension": ".py",
   "mimetype": "text/x-python",
   "name": "python",
   "nbconvert_exporter": "python",
   "pygments_lexer": "ipython3",
   "version": "3.9.5"
  }
 },
 "nbformat": 4,
 "nbformat_minor": 5
}

{
 "cells": [
  {
   "cell_type": "code",
   "execution_count": 1,
   "id": "2501ce9a",
   "metadata": {
    "ExecuteTime": {
     "end_time": "2021-12-07T08:21:08.722466Z",
     "start_time": "2021-12-07T08:21:08.614734Z"
    }
   },
   "outputs": [],
   "source": [
    "import numpy as np"
   ]
  },
  {
   "cell_type": "code",
   "execution_count": 2,
   "id": "3ed8dd05",
   "metadata": {
    "ExecuteTime": {
     "end_time": "2021-12-07T08:21:08.956384Z",
     "start_time": "2021-12-07T08:21:08.949052Z"
    }
   },
   "outputs": [],
   "source": [
    "with open('input.txt', 'r') as f:\n",
    "    crabs = np.array([int(c) for c in f.readline().rstrip().split(',')])"
   ]
  },
  {
   "cell_type": "code",
   "execution_count": 3,
   "id": "a2d08000",
   "metadata": {
    "ExecuteTime": {
     "end_time": "2021-12-07T08:21:09.166363Z",
     "start_time": "2021-12-07T08:21:09.160345Z"
    }
   },
   "outputs": [],
   "source": [
    "def cost_function1(crab, i):\n",
    "    return abs(crab - i)"
   ]
  },
  {
   "cell_type": "code",
   "execution_count": 4,
   "id": "c038d2c1",
   "metadata": {
    "ExecuteTime": {
     "end_time": "2021-12-07T08:21:10.373563Z",
     "start_time": "2021-12-07T08:21:09.348269Z"
    }
   },
   "outputs": [
    {
     "name": "stdout",
     "output_type": "stream",
     "text": [
      "Part 1: 328262\n"
     ]
    }
   ],
   "source": [
    "costs = np.array([sum([cost_function1(crab, i) for crab in crabs]) for i in range(crabs.min(), crabs.max())])\n",
    "print(f'Part 1: {costs.min()}')"
   ]
  },
  {
   "cell_type": "code",
   "execution_count": 5,
   "id": "60fbd53d",
   "metadata": {
    "ExecuteTime": {
     "end_time": "2021-12-07T08:21:10.381755Z",
     "start_time": "2021-12-07T08:21:10.376241Z"
    }
   },
   "outputs": [],
   "source": [
    "def cost_function2(crab, i):\n",
    "    diff = abs(crab - i)\n",
    "    return int(diff * (diff + 1) / 2)"
   ]
  },
  {
   "cell_type": "code",
   "execution_count": 6,
   "id": "0afec3a1",
   "metadata": {
    "ExecuteTime": {
     "end_time": "2021-12-07T08:21:12.334989Z",
     "start_time": "2021-12-07T08:21:10.384944Z"
    }
   },
   "outputs": [
    {
     "name": "stdout",
     "output_type": "stream",
     "text": [
      "Part 2: 90040997\n"
     ]
    }
   ],
   "source": [
    "costs = np.array([sum([cost_function2(crab, i) for crab in crabs]) for i in range(crabs.min(), crabs.max())])\n",
    "print(f'Part 2: {costs.min()}')"
   ]
  },
  {
   "cell_type": "code",
   "execution_count": null,
   "id": "dd779c56",
   "metadata": {},
   "outputs": [],
   "source": []
  }
 ],
 "metadata": {
  "kernelspec": {
   "display_name": "Python 3",
   "language": "python",
   "name": "python3"
  },
  "language_info": {
   "codemirror_mode": {
    "name": "ipython",
    "version": 3
   },
   "file_extension": ".py",
   "mimetype": "text/x-python",
   "name": "python",
   "nbconvert_exporter": "python",
   "pygments_lexer": "ipython3",
   "version": "3.9.5"
  }
 },
 "nbformat": 4,
 "nbformat_minor": 5
}

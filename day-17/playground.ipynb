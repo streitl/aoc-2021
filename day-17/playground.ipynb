{
 "cells": [
  {
   "cell_type": "code",
   "execution_count": 1,
   "id": "b9ee05f4",
   "metadata": {
    "ExecuteTime": {
     "end_time": "2021-12-17T10:05:11.711292Z",
     "start_time": "2021-12-17T10:05:11.598522Z"
    }
   },
   "outputs": [],
   "source": [
    "import re\n",
    "import numpy as np"
   ]
  },
  {
   "cell_type": "code",
   "execution_count": 2,
   "id": "9c2ca409",
   "metadata": {
    "ExecuteTime": {
     "end_time": "2021-12-17T10:05:11.718210Z",
     "start_time": "2021-12-17T10:05:11.712855Z"
    }
   },
   "outputs": [],
   "source": [
    "class Target:\n",
    "    regex = re.compile('.*target area: x=(-?[0-9]+)..(-?[0-9]+), y=(-?[0-9]+)..(-?[0-9]+).*')\n",
    "    \n",
    "    def __init__(self, f):\n",
    "        match = self.regex.match(f.readline().rstrip())\n",
    "        data = tuple(int(match.group(i)) for i in range(1, 5))\n",
    "        self.tx = (data[0], data[1])\n",
    "        self.ty = (data[2], data[3])\n",
    "        self.values = set([(i, j) for i in range(self.tx[0], self.tx[1]+1) for j in range (self.ty[0], self.ty[1]+1)])"
   ]
  },
  {
   "cell_type": "code",
   "execution_count": 3,
   "id": "dfad5092",
   "metadata": {
    "ExecuteTime": {
     "end_time": "2021-12-17T10:05:11.726808Z",
     "start_time": "2021-12-17T10:05:11.719872Z"
    }
   },
   "outputs": [],
   "source": [
    "def max_y(vx, vy, target):\n",
    "    x, y = 0, 0\n",
    "    ymax = y\n",
    "    while True:\n",
    "        x += vx\n",
    "        y += vy\n",
    "        \n",
    "        vx -= np.sign(vx)\n",
    "        vy -= 1\n",
    "        if y > ymax:\n",
    "            ymax = y\n",
    "        if (x, y) in target.values:\n",
    "            return ymax\n",
    "        elif (x > target.tx[1] and vx >= 0) or (x < target.tx[0] and vx <= 0) or (y < target.ty[0] and vy <= 0):\n",
    "            return None"
   ]
  },
  {
   "cell_type": "code",
   "execution_count": 4,
   "id": "1dd762be",
   "metadata": {
    "ExecuteTime": {
     "end_time": "2021-12-17T10:05:11.733852Z",
     "start_time": "2021-12-17T10:05:11.728491Z"
    }
   },
   "outputs": [],
   "source": [
    "def launch_high(target):\n",
    "    vx = 0\n",
    "    if target.tx[0] <= 0 <= target.tx[1]:\n",
    "        vx = 0\n",
    "    elif target.tx[1] < 0:\n",
    "        while vx * (vx - 1) // 2 > target.tx[1]:\n",
    "            vx -= 1\n",
    "    elif target.tx[0] > 0:\n",
    "        while vx * (vx + 1) // 2 < target.tx[0]:\n",
    "            vx += 1\n",
    "    vy = 10 * np.abs(target.ty[1] - target.ty[0])\n",
    "    ymax = max_y(vx, vy, target)\n",
    "    while ymax is None:\n",
    "        vy -= 1\n",
    "        ymax = max_y(vx, vy, target)\n",
    "    return ymax"
   ]
  },
  {
   "cell_type": "code",
   "execution_count": 5,
   "id": "d7b9e72e",
   "metadata": {
    "ExecuteTime": {
     "end_time": "2021-12-17T10:05:11.743067Z",
     "start_time": "2021-12-17T10:05:11.735624Z"
    }
   },
   "outputs": [],
   "source": [
    "def find_all_launches(target):\n",
    "    if target.tx[0] <= 0 <= target.tx[1]:\n",
    "        vxrange = range(target.tx[0], target.tx[1]+1)\n",
    "    elif target.tx[1] < 0:\n",
    "        vxrange = range(target.tx[0], 0)\n",
    "    elif target.tx[0] > 0:\n",
    "        vxrange = range(target.tx[1] + 1)\n",
    "    \n",
    "    ydiff = np.abs(target.ty[1] - target.ty[0])\n",
    "    if target.ty[0] < 0:\n",
    "        vyrange = range(target.ty[0], target.ty[1] + 10 * ydiff)\n",
    "    else:\n",
    "        vyrange = range(target.ty[1] + 20 * ydiff)\n",
    "    \n",
    "    launches = []\n",
    "    for vx in vxrange:\n",
    "        for vy in vyrange:\n",
    "            if max_y(vx, vy, target) is not None:\n",
    "                launches.append((vx, vy))\n",
    "    return launches"
   ]
  },
  {
   "cell_type": "code",
   "execution_count": 6,
   "id": "d7cf8650",
   "metadata": {
    "ExecuteTime": {
     "end_time": "2021-12-17T10:05:11.747901Z",
     "start_time": "2021-12-17T10:05:11.744652Z"
    }
   },
   "outputs": [],
   "source": [
    "with open('input.txt', 'r') as f:\n",
    "    target = Target(f)"
   ]
  },
  {
   "cell_type": "code",
   "execution_count": 7,
   "id": "1fecd9cf",
   "metadata": {
    "ExecuteTime": {
     "end_time": "2021-12-17T10:05:12.371027Z",
     "start_time": "2021-12-17T10:05:11.749189Z"
    }
   },
   "outputs": [
    {
     "name": "stdout",
     "output_type": "stream",
     "text": [
      "Part 1: 4560\n"
     ]
    }
   ],
   "source": [
    "print(f'Part 1: {launch_high(target)}')"
   ]
  },
  {
   "cell_type": "code",
   "execution_count": 8,
   "id": "4973a44c",
   "metadata": {
    "ExecuteTime": {
     "end_time": "2021-12-17T10:05:14.809739Z",
     "start_time": "2021-12-17T10:05:12.373926Z"
    }
   },
   "outputs": [
    {
     "name": "stdout",
     "output_type": "stream",
     "text": [
      "Part 2: 3344\n"
     ]
    }
   ],
   "source": [
    "print(f'Part 2: {len(find_all_launches(target))}')"
   ]
  },
  {
   "cell_type": "code",
   "execution_count": null,
   "id": "805c119e",
   "metadata": {},
   "outputs": [],
   "source": []
  }
 ],
 "metadata": {
  "kernelspec": {
   "display_name": "Python 3",
   "language": "python",
   "name": "python3"
  },
  "language_info": {
   "codemirror_mode": {
    "name": "ipython",
    "version": 3
   },
   "file_extension": ".py",
   "mimetype": "text/x-python",
   "name": "python",
   "nbconvert_exporter": "python",
   "pygments_lexer": "ipython3",
   "version": "3.9.5"
  }
 },
 "nbformat": 4,
 "nbformat_minor": 5
}

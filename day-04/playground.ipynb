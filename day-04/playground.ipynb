{
 "cells": [
  {
   "cell_type": "code",
   "execution_count": 1,
   "id": "25cefef0",
   "metadata": {
    "ExecuteTime": {
     "end_time": "2021-12-04T11:12:09.665629Z",
     "start_time": "2021-12-04T11:12:09.550430Z"
    }
   },
   "outputs": [],
   "source": [
    "import numpy as np"
   ]
  },
  {
   "cell_type": "code",
   "execution_count": 2,
   "id": "15294a3b",
   "metadata": {
    "ExecuteTime": {
     "end_time": "2021-12-04T11:12:11.902461Z",
     "start_time": "2021-12-04T11:12:11.891061Z"
    }
   },
   "outputs": [],
   "source": [
    "with open('input.txt') as f:\n",
    "    draws = [int(n) for n in f.readline().rstrip().split(',')]\n",
    "    f.readline()\n",
    "    boards = np.array([[[int(c) for c in l.rstrip().split()] for l in group.split('\\n') if l != ''] for group in f.read().split('\\n\\n') if group.rstrip() != ''])"
   ]
  },
  {
   "cell_type": "code",
   "execution_count": 3,
   "id": "5b538cc7",
   "metadata": {
    "ExecuteTime": {
     "end_time": "2021-12-04T11:12:12.287459Z",
     "start_time": "2021-12-04T11:12:12.278414Z"
    }
   },
   "outputs": [],
   "source": [
    "def play_bingo(draws, boards):\n",
    "    marked = np.full(boards.shape, False)\n",
    "    winners = []\n",
    "    for draw in draws:\n",
    "        marked[boards == draw] = True\n",
    "        for i, marks in enumerate(marked):\n",
    "            if i not in map(lambda x: x[0], winners):\n",
    "                if 5 in marks.sum(axis=0) or 5 in marks.sum(axis=1):\n",
    "                    winners.append((i, draw, boards[i][marks == False].sum()))\n",
    "    return winners"
   ]
  },
  {
   "cell_type": "code",
   "execution_count": 4,
   "id": "ccc6ebaf",
   "metadata": {
    "ExecuteTime": {
     "end_time": "2021-12-04T11:12:12.688630Z",
     "start_time": "2021-12-04T11:12:12.528253Z"
    }
   },
   "outputs": [],
   "source": [
    "winners = play_bingo(draws, boards)"
   ]
  },
  {
   "cell_type": "code",
   "execution_count": 5,
   "id": "b6b3478f",
   "metadata": {
    "ExecuteTime": {
     "end_time": "2021-12-04T11:12:12.895078Z",
     "start_time": "2021-12-04T11:12:12.889884Z"
    }
   },
   "outputs": [
    {
     "name": "stdout",
     "output_type": "stream",
     "text": [
      "Part 1: 25023\n"
     ]
    }
   ],
   "source": [
    "_, first_winning_draw, unmarked_sum = winners[0]\n",
    "print(f'Part 1: {first_winning_draw * unmarked_sum}')"
   ]
  },
  {
   "cell_type": "code",
   "execution_count": 6,
   "id": "e5ac5d7b",
   "metadata": {
    "ExecuteTime": {
     "end_time": "2021-12-04T11:12:13.398444Z",
     "start_time": "2021-12-04T11:12:13.392693Z"
    }
   },
   "outputs": [
    {
     "name": "stdout",
     "output_type": "stream",
     "text": [
      "Part 2: 2634\n"
     ]
    }
   ],
   "source": [
    "_, last_winning_draw, unmarked_sum = winners[-1]\n",
    "print(f'Part 2: {last_winning_draw * unmarked_sum}')"
   ]
  },
  {
   "cell_type": "code",
   "execution_count": null,
   "id": "8ede09e8",
   "metadata": {},
   "outputs": [],
   "source": []
  }
 ],
 "metadata": {
  "kernelspec": {
   "display_name": "Python 3",
   "language": "python",
   "name": "python3"
  },
  "language_info": {
   "codemirror_mode": {
    "name": "ipython",
    "version": 3
   },
   "file_extension": ".py",
   "mimetype": "text/x-python",
   "name": "python",
   "nbconvert_exporter": "python",
   "pygments_lexer": "ipython3",
   "version": "3.9.5"
  }
 },
 "nbformat": 4,
 "nbformat_minor": 5
}

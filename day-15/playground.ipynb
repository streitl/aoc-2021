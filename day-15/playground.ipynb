{
 "cells": [
  {
   "cell_type": "code",
   "execution_count": 1,
   "id": "9f8e1b3c",
   "metadata": {
    "ExecuteTime": {
     "end_time": "2021-12-15T08:47:17.572355Z",
     "start_time": "2021-12-15T08:47:17.456658Z"
    }
   },
   "outputs": [],
   "source": [
    "import numpy as np\n",
    "from queue import PriorityQueue"
   ]
  },
  {
   "cell_type": "code",
   "execution_count": 2,
   "id": "a384521e",
   "metadata": {
    "ExecuteTime": {
     "end_time": "2021-12-15T08:47:17.716492Z",
     "start_time": "2021-12-15T08:47:17.703281Z"
    }
   },
   "outputs": [],
   "source": [
    "def find_shortest_path(data):\n",
    "    start = (0, 0)\n",
    "    end = (data.shape[0] - 1, data.shape[1] - 1)\n",
    "\n",
    "    costs = np.full(data.shape, 2**1000)\n",
    "    costs[start] = 0\n",
    "\n",
    "    previous = np.full(data.shape, None)\n",
    "\n",
    "    visited = np.full(data.shape, False)\n",
    "    visited[start] = True\n",
    "\n",
    "    queue = PriorityQueue()\n",
    "    queue.put((0, start))\n",
    "\n",
    "    def get_neighbors(pos, shape):\n",
    "        i, j = pos\n",
    "        I, J = shape\n",
    "        return [(i+di, j+dj) for di, dj in [(-1, 0), (1, 0), (0, -1), (0, 1)] if 0 <= i + di < I and 0 <= j + dj < J]\n",
    "\n",
    "    while not queue.empty():\n",
    "        cost, pos = queue.get()\n",
    "        for neighbor in get_neighbors(pos, data.shape):\n",
    "            if not visited[neighbor]:\n",
    "                temp_cost = cost + data[neighbor]\n",
    "                if temp_cost < costs[neighbor]:\n",
    "                    costs[neighbor] = temp_cost\n",
    "                    previous[neighbor] = pos\n",
    "                    queue.put((costs[neighbor], neighbor))\n",
    "        visited[pos] = True\n",
    "    return costs[end]"
   ]
  },
  {
   "cell_type": "code",
   "execution_count": 3,
   "id": "6f0062d6",
   "metadata": {
    "ExecuteTime": {
     "end_time": "2021-12-15T08:47:19.775599Z",
     "start_time": "2021-12-15T08:47:19.764298Z"
    }
   },
   "outputs": [],
   "source": [
    "with open('input.txt', 'r') as f:\n",
    "    data = np.array([[int(c) for c in l.rstrip()] for l in f.readlines() if l.rstrip()])"
   ]
  },
  {
   "cell_type": "code",
   "execution_count": 4,
   "id": "dd154332",
   "metadata": {
    "ExecuteTime": {
     "end_time": "2021-12-15T08:47:20.690533Z",
     "start_time": "2021-12-15T08:47:20.510823Z"
    }
   },
   "outputs": [
    {
     "name": "stdout",
     "output_type": "stream",
     "text": [
      "Part 1: 508\n"
     ]
    }
   ],
   "source": [
    "print(f'Part 1: {find_shortest_path(data)}')"
   ]
  },
  {
   "cell_type": "code",
   "execution_count": 5,
   "id": "557db71e",
   "metadata": {
    "ExecuteTime": {
     "end_time": "2021-12-15T08:47:26.645723Z",
     "start_time": "2021-12-15T08:47:22.676663Z"
    }
   },
   "outputs": [
    {
     "name": "stdout",
     "output_type": "stream",
     "text": [
      "Part 2: 2872\n"
     ]
    }
   ],
   "source": [
    "f = np.vectorize(lambda x: x if x <= 9 else x - 9)\n",
    "extended = f(np.concatenate((data, data+1, data+2, data+3, data+4), axis=0))\n",
    "extended = f(np.concatenate((extended, extended+1, extended+2, extended+3, extended+4), axis=1))\n",
    "\n",
    "print(f'Part 2: {find_shortest_path(extended)}')"
   ]
  },
  {
   "cell_type": "code",
   "execution_count": null,
   "id": "d7cf8650",
   "metadata": {},
   "outputs": [],
   "source": []
  }
 ],
 "metadata": {
  "kernelspec": {
   "display_name": "Python 3",
   "language": "python",
   "name": "python3"
  },
  "language_info": {
   "codemirror_mode": {
    "name": "ipython",
    "version": 3
   },
   "file_extension": ".py",
   "mimetype": "text/x-python",
   "name": "python",
   "nbconvert_exporter": "python",
   "pygments_lexer": "ipython3",
   "version": "3.9.5"
  }
 },
 "nbformat": 4,
 "nbformat_minor": 5
}

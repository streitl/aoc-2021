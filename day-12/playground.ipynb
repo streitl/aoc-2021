{
 "cells": [
  {
   "cell_type": "code",
   "execution_count": 1,
   "id": "037b5cf8",
   "metadata": {
    "ExecuteTime": {
     "end_time": "2021-12-15T10:51:13.863724Z",
     "start_time": "2021-12-15T10:51:13.807236Z"
    }
   },
   "outputs": [],
   "source": [
    "import numpy as np\n",
    "from collections import deque"
   ]
  },
  {
   "cell_type": "code",
   "execution_count": 2,
   "id": "62fa2672",
   "metadata": {
    "ExecuteTime": {
     "end_time": "2021-12-15T10:51:13.909457Z",
     "start_time": "2021-12-15T10:51:13.903770Z"
    }
   },
   "outputs": [],
   "source": [
    "with open('input.txt', 'r') as f:\n",
    "    data = [tuple(l.rstrip().split('-')) for l in f.readlines() if l.rstrip() != '']"
   ]
  },
  {
   "cell_type": "code",
   "execution_count": 3,
   "id": "61e441a7",
   "metadata": {
    "ExecuteTime": {
     "end_time": "2021-12-15T10:51:14.094938Z",
     "start_time": "2021-12-15T10:51:14.086520Z"
    }
   },
   "outputs": [],
   "source": [
    "def build_connections(data):\n",
    "    connections = {}\n",
    "    for l, r in data:\n",
    "        if l not in connections:\n",
    "            connections[l] = set()\n",
    "        connections[l].add(r)\n",
    "        if r not in connections:\n",
    "            connections[r] = set()\n",
    "        connections[r].add(l)\n",
    "    return connections\n",
    "\n",
    "def find_all_paths(data, rule):\n",
    "    paths = []\n",
    "    connections = build_connections(data)\n",
    "    queue = deque()\n",
    "    queue.appendleft(['start'])\n",
    "    while queue:\n",
    "        path = queue.pop()\n",
    "        if path[-1] == 'end':\n",
    "            paths.append(path)\n",
    "        else:\n",
    "            for possibility in connections[path[-1]]:\n",
    "                if rule(possibility, path):\n",
    "                    queue.appendleft(path + [possibility])\n",
    "    return paths"
   ]
  },
  {
   "cell_type": "code",
   "execution_count": 4,
   "id": "73eb781c",
   "metadata": {
    "ExecuteTime": {
     "end_time": "2021-12-15T10:51:14.311803Z",
     "start_time": "2021-12-15T10:51:14.271863Z"
    }
   },
   "outputs": [
    {
     "name": "stdout",
     "output_type": "stream",
     "text": [
      "Part 1: 5457\n"
     ]
    }
   ],
   "source": [
    "rule_1 = lambda pos, path: pos.isupper() or (pos.islower() and pos not in path)\n",
    "print(f'Part 1: {len(find_all_paths(data, rule_1))}')"
   ]
  },
  {
   "cell_type": "code",
   "execution_count": 5,
   "id": "0e7e2d0e",
   "metadata": {
    "ExecuteTime": {
     "end_time": "2021-12-15T10:51:35.892948Z",
     "start_time": "2021-12-15T10:51:14.662800Z"
    }
   },
   "outputs": [
    {
     "name": "stdout",
     "output_type": "stream",
     "text": [
      "Part 2: 128506\n"
     ]
    }
   ],
   "source": [
    "def rule_2(pos, path):\n",
    "    _, small_cave_counts = np.unique(list(filter(lambda node: node.islower(), path)), return_counts=True)\n",
    "    return pos != 'start' and (pos.isupper() or (pos.islower() and (pos not in path or np.all(small_cave_counts < 2))))\n",
    "print(f'Part 2: {len(find_all_paths(data, rule_2))}')"
   ]
  },
  {
   "cell_type": "code",
   "execution_count": null,
   "id": "7690f06a",
   "metadata": {},
   "outputs": [],
   "source": []
  }
 ],
 "metadata": {
  "kernelspec": {
   "display_name": "Python 3",
   "language": "python",
   "name": "python3"
  },
  "language_info": {
   "codemirror_mode": {
    "name": "ipython",
    "version": 3
   },
   "file_extension": ".py",
   "mimetype": "text/x-python",
   "name": "python",
   "nbconvert_exporter": "python",
   "pygments_lexer": "ipython3",
   "version": "3.9.5"
  }
 },
 "nbformat": 4,
 "nbformat_minor": 5
}

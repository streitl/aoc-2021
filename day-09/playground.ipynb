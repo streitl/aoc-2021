{
 "cells": [
  {
   "cell_type": "code",
   "execution_count": 1,
   "id": "8c715b98",
   "metadata": {
    "ExecuteTime": {
     "end_time": "2021-12-09T09:48:12.510354Z",
     "start_time": "2021-12-09T09:48:12.410940Z"
    }
   },
   "outputs": [],
   "source": [
    "import numpy as np"
   ]
  },
  {
   "cell_type": "code",
   "execution_count": 2,
   "id": "299e1484",
   "metadata": {
    "ExecuteTime": {
     "end_time": "2021-12-09T09:48:12.872000Z",
     "start_time": "2021-12-09T09:48:12.861729Z"
    }
   },
   "outputs": [],
   "source": [
    "with open('input.txt', 'r') as f:\n",
    "    data = np.array([[int(e) for e in l.rstrip()] for l in f.readlines() if l.rstrip() != ''])"
   ]
  },
  {
   "cell_type": "code",
   "execution_count": 3,
   "id": "f6aa8046",
   "metadata": {
    "ExecuteTime": {
     "end_time": "2021-12-09T09:48:13.254592Z",
     "start_time": "2021-12-09T09:48:13.243379Z"
    }
   },
   "outputs": [],
   "source": [
    "def find_low_points(data):\n",
    "    low_point = np.full(data.shape, False)\n",
    "    total_risk = 0\n",
    "    for i, row in enumerate(data):\n",
    "        for j, el in enumerate(row):\n",
    "            if not(\n",
    "                (i > 0 and data[i-1, j] <= el) \n",
    "                or (i < data.shape[0]-1 and data[i+1, j] <= el) \n",
    "                or (j > 0 and data[i, j-1] <= el) \n",
    "                or (j < data.shape[1]-1 and data[i, j+1] <= el)\n",
    "            ):\n",
    "                total_risk += el + 1\n",
    "                low_point[i, j] = True\n",
    "    return total_risk, low_point"
   ]
  },
  {
   "cell_type": "code",
   "execution_count": 4,
   "id": "e9a13162",
   "metadata": {
    "ExecuteTime": {
     "end_time": "2021-12-09T09:48:13.703701Z",
     "start_time": "2021-12-09T09:48:13.687190Z"
    }
   },
   "outputs": [
    {
     "name": "stdout",
     "output_type": "stream",
     "text": [
      "Part 1: 564\n"
     ]
    }
   ],
   "source": [
    "risk, low_point = find_low_points(data)\n",
    "print(f'Part 1: {risk}')"
   ]
  },
  {
   "cell_type": "code",
   "execution_count": 5,
   "id": "5f4452cc",
   "metadata": {
    "ExecuteTime": {
     "end_time": "2021-12-09T09:48:14.230149Z",
     "start_time": "2021-12-09T09:48:14.217843Z"
    }
   },
   "outputs": [],
   "source": [
    "def find_basins(data):\n",
    "    smallest_neighbor = np.full(data.shape, None)\n",
    "    for i, row in enumerate(data):\n",
    "        for j, el in enumerate(row):\n",
    "            smallest = 10\n",
    "            for di, dj in [(0, -1), (0, 1), (-1, 0), (1, 0)]:\n",
    "                ii = i + di\n",
    "                jj = j + dj\n",
    "                if ii in range(data.shape[0]) and jj in range(data.shape[1]) and data[ii, jj] < smallest:\n",
    "                    smallest = data[ii, jj]\n",
    "                    smallest_neighbor[i, j] = (ii, jj)\n",
    "                    \n",
    "    basins = np.full(data.shape, None)\n",
    "    for i, row in enumerate(data):\n",
    "        for j, el in enumerate(row):\n",
    "            if el == 9:\n",
    "                continue\n",
    "            ii, jj = i, j\n",
    "            while not low_point[ii, jj]:\n",
    "                ii, jj = smallest_neighbor[ii, jj]\n",
    "            basins[i, j] = ii, jj\n",
    "    basins, counts = np.unique(basins[basins != None], return_counts=True)\n",
    "    indices = counts.argsort()[::-1]\n",
    "    return basins[indices], counts[indices]"
   ]
  },
  {
   "cell_type": "code",
   "execution_count": 6,
   "id": "9a211adb",
   "metadata": {
    "ExecuteTime": {
     "end_time": "2021-12-09T09:48:15.049230Z",
     "start_time": "2021-12-09T09:48:14.939052Z"
    }
   },
   "outputs": [
    {
     "name": "stdout",
     "output_type": "stream",
     "text": [
      "Part 2: 1038240\n"
     ]
    }
   ],
   "source": [
    "basins, counts = find_basins(data)\n",
    "print(f'Part 2: {counts[0] * counts[1] * counts[2]}')"
   ]
  },
  {
   "cell_type": "code",
   "execution_count": null,
   "id": "03e38db4",
   "metadata": {},
   "outputs": [],
   "source": []
  }
 ],
 "metadata": {
  "kernelspec": {
   "display_name": "Python 3",
   "language": "python",
   "name": "python3"
  },
  "language_info": {
   "codemirror_mode": {
    "name": "ipython",
    "version": 3
   },
   "file_extension": ".py",
   "mimetype": "text/x-python",
   "name": "python",
   "nbconvert_exporter": "python",
   "pygments_lexer": "ipython3",
   "version": "3.9.5"
  }
 },
 "nbformat": 4,
 "nbformat_minor": 5
}

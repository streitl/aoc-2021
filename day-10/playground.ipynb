{
 "cells": [
  {
   "cell_type": "code",
   "execution_count": 1,
   "id": "7b4a96ae",
   "metadata": {
    "ExecuteTime": {
     "end_time": "2021-12-10T08:34:38.444499Z",
     "start_time": "2021-12-10T08:34:38.429850Z"
    }
   },
   "outputs": [],
   "source": [
    "with open('input.txt', 'r') as f:\n",
    "    data = [l.rstrip() for l in f.readlines() if l.rstrip() != '']"
   ]
  },
  {
   "cell_type": "code",
   "execution_count": 2,
   "id": "6b758d26",
   "metadata": {
    "ExecuteTime": {
     "end_time": "2021-12-10T08:34:38.647709Z",
     "start_time": "2021-12-10T08:34:38.637022Z"
    }
   },
   "outputs": [],
   "source": [
    "chunks = [('(', ')'), ('[', ']'), ('{', '}'), ('<', '>')]\n",
    "openers = set(map(lambda x: x[0], chunks))\n",
    "def line_scores(line):\n",
    "    corrupted_score = {')': 3, ']': 57, '}': 1197, '>': 25137}\n",
    "    incomplete_score = {'(': 1, '[': 2, '{': 3, '<': 4}\n",
    "    stack = []\n",
    "    for e in line:\n",
    "        if e in openers:\n",
    "            stack.append(e)\n",
    "        else:\n",
    "            for l, r in chunks:\n",
    "                if e == r:\n",
    "                    if stack[-1] == l:\n",
    "                        stack.pop()\n",
    "                        break\n",
    "                    else:\n",
    "                        return corrupted_score[e], 0\n",
    "    score = 0\n",
    "    for remaining in stack[::-1]:\n",
    "        score *= 5\n",
    "        score += incomplete_score[remaining]\n",
    "    return 0, score"
   ]
  },
  {
   "cell_type": "code",
   "execution_count": 3,
   "id": "9407aa41",
   "metadata": {
    "ExecuteTime": {
     "end_time": "2021-12-10T08:34:39.151221Z",
     "start_time": "2021-12-10T08:34:39.139867Z"
    }
   },
   "outputs": [
    {
     "name": "stdout",
     "output_type": "stream",
     "text": [
      "Part 1: 296535\n",
      "Part 2: 4245130838\n"
     ]
    }
   ],
   "source": [
    "corrupted_scores, incomplete_scores = zip(*[line_scores(l) for l in data])\n",
    "print(f'Part 1: {sum(corrupted_scores)}')\n",
    "\n",
    "incomplete_scores = sorted([s for s in incomplete_scores if s != 0])\n",
    "print(f'Part 2: {incomplete_scores[len(incomplete_scores) // 2]}')"
   ]
  },
  {
   "cell_type": "code",
   "execution_count": null,
   "id": "f783b504",
   "metadata": {},
   "outputs": [],
   "source": []
  }
 ],
 "metadata": {
  "kernelspec": {
   "display_name": "Python 3",
   "language": "python",
   "name": "python3"
  },
  "language_info": {
   "codemirror_mode": {
    "name": "ipython",
    "version": 3
   },
   "file_extension": ".py",
   "mimetype": "text/x-python",
   "name": "python",
   "nbconvert_exporter": "python",
   "pygments_lexer": "ipython3",
   "version": "3.9.5"
  }
 },
 "nbformat": 4,
 "nbformat_minor": 5
}

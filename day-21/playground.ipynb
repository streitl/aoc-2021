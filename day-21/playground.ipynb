{
 "cells": [
  {
   "cell_type": "code",
   "execution_count": 1,
   "id": "81d2c94e",
   "metadata": {
    "ExecuteTime": {
     "end_time": "2021-12-26T23:45:48.921225Z",
     "start_time": "2021-12-26T23:45:48.908622Z"
    }
   },
   "outputs": [],
   "source": [
    "import re\n",
    "from copy import copy, deepcopy\n",
    "from itertools import product"
   ]
  },
  {
   "cell_type": "code",
   "execution_count": 2,
   "id": "d553f7bd",
   "metadata": {
    "ExecuteTime": {
     "end_time": "2021-12-26T23:45:48.931795Z",
     "start_time": "2021-12-26T23:45:48.924910Z"
    }
   },
   "outputs": [],
   "source": [
    "class DeterministicDie:\n",
    "    \n",
    "    def __init__(self, sides=100):\n",
    "        self.value = 1\n",
    "        self.sides = sides\n",
    "        self.rolls = 0\n",
    "    \n",
    "    def roll(self):\n",
    "        value = self.value\n",
    "        self.value += 1\n",
    "        if self.value > self.sides:\n",
    "            self.value = 1\n",
    "        self.rolls += 1\n",
    "        return value\n",
    "\n",
    "class QuantumDie:\n",
    "    \n",
    "    def roll(self):\n",
    "        return [1, 2, 3]"
   ]
  },
  {
   "cell_type": "code",
   "execution_count": 3,
   "id": "d42480d0",
   "metadata": {
    "ExecuteTime": {
     "end_time": "2021-12-26T23:45:48.963569Z",
     "start_time": "2021-12-26T23:45:48.955201Z"
    }
   },
   "outputs": [],
   "source": [
    "regex = re.compile('Player ([0-9]+) starting position: ([0-9]+)')\n",
    "\n",
    "class Player:\n",
    "    \n",
    "    def __init__(self, line):\n",
    "        match = regex.match(line)\n",
    "        self.number = int(match.group(1))\n",
    "        self.pos = int(match.group(2))\n",
    "        self.score = 0\n",
    "    \n",
    "    def move(self, times):\n",
    "        self.pos = (self.pos + times - 1) % 10 + 1 \n",
    "        self.score += self.pos\n",
    "    \n",
    "    def __repr__(self):\n",
    "        return f'Player {self.number} [position={self.pos}, score {self.score}]'"
   ]
  },
  {
   "cell_type": "code",
   "execution_count": 4,
   "id": "3f32f28e",
   "metadata": {
    "ExecuteTime": {
     "end_time": "2021-12-26T23:45:49.270936Z",
     "start_time": "2021-12-26T23:45:49.263134Z"
    }
   },
   "outputs": [],
   "source": [
    "def play(players):\n",
    "    die = DeterministicDie(sides=100)\n",
    "    while True:\n",
    "        for i, player in enumerate(players):\n",
    "            player.move(die.roll() + die.roll() + die.roll())\n",
    "            if player.score >= 1000:\n",
    "                return players[1-i].score * die.rolls"
   ]
  },
  {
   "cell_type": "code",
   "execution_count": 5,
   "id": "71ece700",
   "metadata": {
    "ExecuteTime": {
     "end_time": "2021-12-26T23:45:50.659831Z",
     "start_time": "2021-12-26T23:45:50.648872Z"
    }
   },
   "outputs": [],
   "source": [
    "def play_parallel(players):\n",
    "    memory = {}\n",
    "    def rec(playing, other):\n",
    "        if playing.score >= 21:\n",
    "            return (1, 0)\n",
    "        if other.score >= 21:\n",
    "            return (0, 1)\n",
    "        \n",
    "        key = playing.pos, playing.score, other.pos, other.score\n",
    "        if key in memory:\n",
    "            return memory[key]\n",
    "        \n",
    "        counts = (0, 0)\n",
    "        for d1, d2, d3 in product([1, 2, 3], repeat=3):\n",
    "            pnew = copy(playing)\n",
    "            pnew.move(d1 + d2 + d3)\n",
    "            b, a = rec(other, pnew)\n",
    "            counts = (counts[0] + a, counts[1] + b)\n",
    "        \n",
    "        memory[key] = counts\n",
    "        return counts\n",
    "    \n",
    "    playing, other = players\n",
    "    return rec(playing, other)"
   ]
  },
  {
   "cell_type": "code",
   "execution_count": 6,
   "id": "e0591e54",
   "metadata": {
    "ExecuteTime": {
     "end_time": "2021-12-26T23:45:53.502422Z",
     "start_time": "2021-12-26T23:45:53.495759Z"
    }
   },
   "outputs": [],
   "source": [
    "with open('input.txt', 'r') as f:\n",
    "    players = [Player(l) for l in f.readlines()]"
   ]
  },
  {
   "cell_type": "code",
   "execution_count": 7,
   "id": "16c63855",
   "metadata": {
    "ExecuteTime": {
     "end_time": "2021-12-26T23:45:54.101030Z",
     "start_time": "2021-12-26T23:45:54.092840Z"
    }
   },
   "outputs": [
    {
     "name": "stdout",
     "output_type": "stream",
     "text": [
      "Part 1: 513936\n"
     ]
    }
   ],
   "source": [
    "print(f'Part 1: {play(deepcopy(players))}')"
   ]
  },
  {
   "cell_type": "code",
   "execution_count": 8,
   "id": "6e28fb7e",
   "metadata": {
    "ExecuteTime": {
     "end_time": "2021-12-26T23:45:56.685979Z",
     "start_time": "2021-12-26T23:45:55.218995Z"
    }
   },
   "outputs": [
    {
     "name": "stdout",
     "output_type": "stream",
     "text": [
      "Part 2: 105619718613031\n"
     ]
    }
   ],
   "source": [
    "print(f'Part 2: {max(play_parallel(players))}')"
   ]
  },
  {
   "cell_type": "code",
   "execution_count": null,
   "id": "cb8d5590",
   "metadata": {},
   "outputs": [],
   "source": []
  }
 ],
 "metadata": {
  "kernelspec": {
   "display_name": "Python 3",
   "language": "python",
   "name": "python3"
  },
  "language_info": {
   "codemirror_mode": {
    "name": "ipython",
    "version": 3
   },
   "file_extension": ".py",
   "mimetype": "text/x-python",
   "name": "python",
   "nbconvert_exporter": "python",
   "pygments_lexer": "ipython3",
   "version": "3.9.5"
  }
 },
 "nbformat": 4,
 "nbformat_minor": 5
}

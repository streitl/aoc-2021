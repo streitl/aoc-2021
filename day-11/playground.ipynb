{
 "cells": [
  {
   "cell_type": "code",
   "execution_count": 1,
   "id": "f9745e7c",
   "metadata": {
    "ExecuteTime": {
     "end_time": "2021-12-12T08:45:15.101234Z",
     "start_time": "2021-12-12T08:45:14.991865Z"
    }
   },
   "outputs": [],
   "source": [
    "import numpy as np\n",
    "from collections import deque"
   ]
  },
  {
   "cell_type": "code",
   "execution_count": 2,
   "id": "897b54b1",
   "metadata": {
    "ExecuteTime": {
     "end_time": "2021-12-12T08:45:15.487642Z",
     "start_time": "2021-12-12T08:45:15.483001Z"
    }
   },
   "outputs": [],
   "source": [
    "with open('input.txt', 'r') as f:\n",
    "    data = [[int(c) for c in l.rstrip()] for l in f.readlines() if l.rstrip() != '']"
   ]
  },
  {
   "cell_type": "code",
   "execution_count": 3,
   "id": "3abb61b2",
   "metadata": {
    "ExecuteTime": {
     "end_time": "2021-12-12T08:45:16.143157Z",
     "start_time": "2021-12-12T08:45:16.013303Z"
    }
   },
   "outputs": [
    {
     "name": "stdout",
     "output_type": "stream",
     "text": [
      "Part 1: 1673\n",
      "Part 2: 279\n"
     ]
    }
   ],
   "source": [
    "octopi = np.array([[c for c in l] for l in data])\n",
    "clip = lambda n: max(0, min(n, octopi.shape[0]-1))\n",
    "\n",
    "n_flashes = 0\n",
    "step = 1\n",
    "while True:\n",
    "    flashed = np.full(octopi.shape, False)\n",
    "    octopi += 1\n",
    "    queue = deque(zip(*np.where(octopi > 9)))\n",
    "    while queue:\n",
    "        i, j = queue.pop()\n",
    "        if flashed[i, j]:\n",
    "            continue\n",
    "        else:\n",
    "            flashed[i, j] = True\n",
    "            n_flashes += 1\n",
    "            for x in range(clip(i-1), clip(i+1)+1):\n",
    "                for y in range(clip(j-1), clip(j+1)+1):\n",
    "                    octopi[x, y] += 1\n",
    "                    if octopi[x, y] > 9 and not flashed[x, y]:\n",
    "                        queue.appendleft((x, y))\n",
    "    \n",
    "    octopi[flashed] = 0\n",
    "    if step == 100:\n",
    "        print(f'Part 1: {n_flashes}')\n",
    "    if np.all(flashed):\n",
    "        print(f'Part 2: {step}')\n",
    "        break\n",
    "    step += 1"
   ]
  },
  {
   "cell_type": "code",
   "execution_count": null,
   "id": "970c4d18",
   "metadata": {},
   "outputs": [],
   "source": []
  }
 ],
 "metadata": {
  "kernelspec": {
   "display_name": "Python 3",
   "language": "python",
   "name": "python3"
  },
  "language_info": {
   "codemirror_mode": {
    "name": "ipython",
    "version": 3
   },
   "file_extension": ".py",
   "mimetype": "text/x-python",
   "name": "python",
   "nbconvert_exporter": "python",
   "pygments_lexer": "ipython3",
   "version": "3.9.5"
  }
 },
 "nbformat": 4,
 "nbformat_minor": 5
}
